{
 "cells": [
  {
   "cell_type": "code",
   "execution_count": 1,
   "metadata": {},
   "outputs": [],
   "source": [
    "import pandas as pd\n",
    "import random\n",
    "from datetime import datetime\n"
   ]
  },
  {
   "cell_type": "code",
   "execution_count": 4,
   "metadata": {},
   "outputs": [],
   "source": [
    "df = pd.DataFrame(columns=cols)\n",
    "dsize = 5000\n",
    "\n",
    "cols = ['Document Id', 'Company Code', 'Document Number', 'Fiscal Year',\n",
    "       'Document Status', 'Exception Reason', 'Document type',\n",
    "       'DP Document Type', 'Credit Memo', 'Reference', 'Vendor',\n",
    "       'Total Amt in Doc Curr', 'Doc Currency', 'Amt in Report Currency',\n",
    "       'Re. Currency', 'Posting date', 'Due Date', 'Related Object Key',\n",
    "       'Days to Due', 'Overdue', 'Requisitioner Name', 'Vendor Name',\n",
    "       'Purchasing Document', 'Plant', 'Purchasing Group', 'Cycle Time',\n",
    "       'Document Date', 'Exception Date', 'Enter on', 'Enter at', 'Start on',\n",
    "       'Start at', 'End on', 'End at', 'Update Date', 'Update Time',\n",
    "       'Reversal Doc#', 'Revsed F_Year', 'Old Doc Num', 'Old Company Code',\n",
    "       'Old Fiscal Year', 'Creation Date', 'Creation Time', 'End on2',\n",
    "       'End at3', 'Doc Currency4', 'Process Type', 'Rescan Reason',\n",
    "       'Delete Reason', 'Target System', 'Rescan Reason Code',\n",
    "       'Obsoleter Reason Code', 'IDoc number', 'User Mapping Object ID',\n",
    "       'DP ID before restart', 'Days Past Due', 'Days to Due5', 'Processor ID',\n",
    "       'Current Invoice', 'Aged 1-30 Days', 'Aged 31-45 Days',\n",
    "       'Aged 46-60 Days', 'Aged 61-90 Days', 'Aged 90+ Days',\n",
    "       'Current Agent Email', 'Valid']\n",
    "\n",
    "vendor_names = {\"The Walter Co\": 2342, \"Example Company 1\": 2049, \"Supply All INC\": 9834, \"WE SPRAY PESTICIDE CO.\": 2122, \"WESTERN PACKAGING\": 1432, \"Digital Supply Co\": 7732, \"PARTS HOUSE LLC.\": 4500, \"Water Supply INC\": 9153}\n",
    "df[\"Document Id\"] = [x for x in range(0, dsize)]\n",
    "df[\"Document Number\"] = [random.randrange(10000, 9999999) for x in range(0, dsize)]\n",
    "df['Total Amt in Doc Curr'] = [\"{:.2f}\".format(x/3) for x in [random.randrange(0, 10000, 1) for x in range(0, dsize)]]\n",
    "df[\"Vendor Name\"] = [list(vendor_names.keys())[random.randrange(0, len(vendor_names))] for x in range(0, dsize)]\n",
    "df[\"Posting date\"] = [datetime(random.randrange(2010, 2020), random.randrange(1, 12), random.randrange(1, 29)).strftime(\"%m/%d/%Y\") for x in range(0, dsize)]\n",
    "df[\"Purchasing Document\"] = [(\"000000000\" + str(x))[-10:] for x in range(50000, dsize+50000)]\n",
    "vendor_nums = []\n",
    "for x in df[\"Vendor Name\"]:\n",
    "    vendor_nums.append(vendor_names[x])\n",
    "df[\"Vendor\"] = vendor_nums\n",
    "df.to_csv(\"testdata.csv\", index=False)"
   ]
  },
  {
   "cell_type": "code",
   "execution_count": null,
   "metadata": {},
   "outputs": [],
   "source": []
  },
  {
   "cell_type": "code",
   "execution_count": 13,
   "metadata": {},
   "outputs": [],
   "source": []
  },
  {
   "cell_type": "code",
   "execution_count": null,
   "metadata": {},
   "outputs": [],
   "source": []
  },
  {
   "cell_type": "code",
   "execution_count": null,
   "metadata": {},
   "outputs": [],
   "source": []
  },
  {
   "cell_type": "code",
   "execution_count": null,
   "metadata": {},
   "outputs": [],
   "source": []
  },
  {
   "cell_type": "code",
   "execution_count": null,
   "metadata": {},
   "outputs": [],
   "source": []
  }
 ],
 "metadata": {
  "kernelspec": {
   "display_name": "Python 3.7.3 64-bit",
   "language": "python",
   "name": "python37364bita577ca70c8c54e14b60525c4c75f8bc6"
  },
  "language_info": {
   "codemirror_mode": {
    "name": "ipython",
    "version": 3
   },
   "file_extension": ".py",
   "mimetype": "text/x-python",
   "name": "python",
   "nbconvert_exporter": "python",
   "pygments_lexer": "ipython3",
   "version": "3.7.3"
  }
 },
 "nbformat": 4,
 "nbformat_minor": 4
}
